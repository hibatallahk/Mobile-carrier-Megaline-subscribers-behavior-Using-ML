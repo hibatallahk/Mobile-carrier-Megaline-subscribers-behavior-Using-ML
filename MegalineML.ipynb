{
 "cells": [
  {
   "cell_type": "markdown",
   "metadata": {},
   "source": [
    "# Review\n",
    "Hi, my name is Dmitry and I will be reviewing your project.\n",
    "\n",
    "You can find my comments in colored markdown cells:\n",
    "\n",
    "<div class=\"alert alert-success\">\n",
    "    If everything is done successfully.\n",
    "</div>\n",
    "\n",
    "<div class=\"alert alert-warning\">\n",
    "    If I have some (optional) suggestions, or questions to think about, or general comments.\n",
    "</div>\n",
    "\n",
    "<div class=\"alert alert-danger\">\n",
    "    If a section requires some corrections. Work can't be accepted with red comments.\n",
    "</div>\n",
    "\n",
    "Please don't remove my comments, as it will make further review iterations much harder for me.\n",
    "\n",
    "Feel free to reply to my comments or ask questions using the following template:\n",
    "\n",
    "<div class=\"alert alert-info\">\n",
    "    For your comments and questions.\n",
    "</div>\n",
    "\n",
    "First of all, thank you for turning in the project! You did a great job! The project is accepted. Good luck on the next sprint!"
   ]
  },
  {
   "cell_type": "markdown",
   "metadata": {},
   "source": [
    "# Machine Learning for Megaline plan recommendation"
   ]
  },
  {
   "cell_type": "markdown",
   "metadata": {},
   "source": [
    "# Project description\n",
    "\n",
    "Mobile carrier Megaline has found out that many of their subscribers use legacy plans. They want to develop a model that would analyze subscribers' behavior and recommend one of Megaline's newer plans: Smart or Ultra.\n",
    "\n",
    "You have access to behavior data about subscribers who have already switched to the new plans (from the project for the Statistical Data Analysis course). For this classification task, you need to develop a model that will pick the right plan. Since you’ve already performed the data preprocessing step, you can move straight to creating the model.\n",
    "\n",
    "Develop a model with the highest possible accuracy. In this project, the threshold for accuracy is 0.75. Check the accuracy using the test dataset."
   ]
  },
  {
   "cell_type": "markdown",
   "metadata": {},
   "source": [
    "# Data description"
   ]
  },
  {
   "cell_type": "markdown",
   "metadata": {},
   "source": [
    "`сalls` — number of calls,\n",
    "\n",
    "`minutes` — total call duration in minutes,\n",
    "\n",
    "`messages` — number of text messages,\n",
    "\n",
    "`mb_used` — Internet traffic used in MB,\n",
    "\n",
    "`is_ultra` — plan for the current month (Ultra - 1, Smart - 0)."
   ]
  },
  {
   "cell_type": "markdown",
   "metadata": {},
   "source": [
    "# Outline"
   ]
  },
  {
   "cell_type": "markdown",
   "metadata": {},
   "source": [
    "<div> \n",
    "    <ol>\n",
    "      <li><a href=\"#1\">Open and look through the data file</a></li>\n",
    "      <li><a href=\"#2\">Split the source data</a></li>\n",
    "      <li><a href=\"#3\">Hyperparameters Tunning</a></li>\n",
    "      <li><a href=\"#4\">Quality Assesment</a></li>\n",
    "      <li><a href=\"#5\">Sanity check the model</a></li>\n",
    "      <li><a href=\"#6\">Overall conclusion</a></li>\n",
    "    </ol> \n",
    "</div>"
   ]
  },
  {
   "cell_type": "markdown",
   "metadata": {},
   "source": [
    "# <a id=\"1\">Open the data file and study the general information"
   ]
  },
  {
   "cell_type": "code",
   "execution_count": 1,
   "metadata": {},
   "outputs": [],
   "source": [
    "# import pandas and numpy for data preprocessing and manipulation\n",
    "import numpy as np\n",
    "import pandas as pd\n",
    "\n",
    "# matplotlib for visualization\n",
    "import matplotlib.pyplot as plt\n",
    "%matplotlib inline\n",
    "# seaborn for visualization\n",
    "import seaborn as sns\n",
    "#Statistical functions\n",
    "from scipy import stats\n",
    "# import train_test_split to split data\n",
    "from sklearn.model_selection import train_test_split\n",
    "\n",
    "# import machine learning module from the sklearn library\n",
    "from sklearn.tree import DecisionTreeClassifier # import decision tree classifier\n",
    "from sklearn.linear_model import LogisticRegression # import logistic regression \n",
    "from sklearn.ensemble import RandomForestClassifier # import random forest algorithm\n",
    "from sklearn.ensemble import AdaBoostClassifier # import adaboost classifier algorithm\n",
    "\n",
    "# import metrics for sanity check on model\n",
    "from sklearn.metrics import accuracy_score\n",
    "from sklearn.metrics import confusion_matrix, classification_report\n",
    "from sklearn.metrics import precision_score, recall_score, f1_score\n",
    "from sklearn.metrics import balanced_accuracy_score, roc_auc_score"
   ]
  },
  {
   "cell_type": "code",
   "execution_count": 2,
   "metadata": {},
   "outputs": [],
   "source": [
    "# function to determine if columns in file have null values\n",
    "def get_percent_of_na(df, num):\n",
    "    count = 0\n",
    "    df = df.copy()\n",
    "    s = (df.isna().sum() / df.shape[0])\n",
    "    for column, percent in zip(s.index, s.values):\n",
    "        num_of_nulls = df[column].isna().sum()\n",
    "        if num_of_nulls == 0:\n",
    "            continue\n",
    "        else:\n",
    "            count += 1\n",
    "        print('Column {} has {:.{}%} percent of Nulls, and {} of nulls'.format(column, percent, num, num_of_nulls))\n",
    "    if count != 0:\n",
    "        print(\"\\033[1m\" + 'There are {} columns with NA.'.format(count) + \"\\033[0m\")\n",
    "    else:\n",
    "        print()\n",
    "        print(\"\\033[1m\" + 'There are no columns with NA.' + \"\\033[0m\")\n",
    "        \n",
    "# function to display general information about the dataset\n",
    "def get_info(df):\n",
    "    \"\"\"\n",
    "    This function uses the head(), info(), describe(), shape() and duplicated() \n",
    "    methods to display the general information about the dataset.\n",
    "    \"\"\"\n",
    "    print(\"\\033[1m\" + '-'*100 + \"\\033[0m\")\n",
    "    print('Head:')\n",
    "    print()\n",
    "    display(df.head())\n",
    "    print('-'*100)\n",
    "    print('Info:')\n",
    "    print()\n",
    "    display(df.info())\n",
    "    print('-'*100)\n",
    "    print('Describe:')\n",
    "    print()\n",
    "    display(df.describe())\n",
    "    print('-'*100)\n",
    "    display(df.describe)\n",
    "    print()\n",
    "    print('Columns with nulls:')\n",
    "    display(get_percent_of_na(df, 4))  # check this out\n",
    "    print('-'*100)\n",
    "    print('Shape:')\n",
    "    print(df.shape)\n",
    "    print('-'*100)\n",
    "    print('Duplicated:')\n",
    "    print(\"\\033[1m\" + 'We have {} duplicated rows.\\n'.format(df.duplicated().sum()) + \"\\033[0m\")\n",
    "    print()"
   ]
  },
  {
   "cell_type": "code",
   "execution_count": 3,
   "metadata": {},
   "outputs": [
    {
     "name": "stdout",
     "output_type": "stream",
     "text": [
      "Data has been read correctly\n"
     ]
    }
   ],
   "source": [
    "df = pd.read_csv('https://code.s3.yandex.net/datasets/users_behavior.csv')\n",
    "print('Data has been read correctly')"
   ]
  },
  {
   "cell_type": "code",
   "execution_count": 4,
   "metadata": {},
   "outputs": [
    {
     "name": "stdout",
     "output_type": "stream",
     "text": [
      "General information about the dataframe\n",
      "\u001b[1m----------------------------------------------------------------------------------------------------\u001b[0m\n",
      "Head:\n",
      "\n"
     ]
    },
    {
     "data": {
      "text/html": [
       "<div>\n",
       "<style scoped>\n",
       "    .dataframe tbody tr th:only-of-type {\n",
       "        vertical-align: middle;\n",
       "    }\n",
       "\n",
       "    .dataframe tbody tr th {\n",
       "        vertical-align: top;\n",
       "    }\n",
       "\n",
       "    .dataframe thead th {\n",
       "        text-align: right;\n",
       "    }\n",
       "</style>\n",
       "<table border=\"1\" class=\"dataframe\">\n",
       "  <thead>\n",
       "    <tr style=\"text-align: right;\">\n",
       "      <th></th>\n",
       "      <th>calls</th>\n",
       "      <th>minutes</th>\n",
       "      <th>messages</th>\n",
       "      <th>mb_used</th>\n",
       "      <th>is_ultra</th>\n",
       "    </tr>\n",
       "  </thead>\n",
       "  <tbody>\n",
       "    <tr>\n",
       "      <td>0</td>\n",
       "      <td>40.0</td>\n",
       "      <td>311.90</td>\n",
       "      <td>83.0</td>\n",
       "      <td>19915.42</td>\n",
       "      <td>0</td>\n",
       "    </tr>\n",
       "    <tr>\n",
       "      <td>1</td>\n",
       "      <td>85.0</td>\n",
       "      <td>516.75</td>\n",
       "      <td>56.0</td>\n",
       "      <td>22696.96</td>\n",
       "      <td>0</td>\n",
       "    </tr>\n",
       "    <tr>\n",
       "      <td>2</td>\n",
       "      <td>77.0</td>\n",
       "      <td>467.66</td>\n",
       "      <td>86.0</td>\n",
       "      <td>21060.45</td>\n",
       "      <td>0</td>\n",
       "    </tr>\n",
       "    <tr>\n",
       "      <td>3</td>\n",
       "      <td>106.0</td>\n",
       "      <td>745.53</td>\n",
       "      <td>81.0</td>\n",
       "      <td>8437.39</td>\n",
       "      <td>1</td>\n",
       "    </tr>\n",
       "    <tr>\n",
       "      <td>4</td>\n",
       "      <td>66.0</td>\n",
       "      <td>418.74</td>\n",
       "      <td>1.0</td>\n",
       "      <td>14502.75</td>\n",
       "      <td>0</td>\n",
       "    </tr>\n",
       "  </tbody>\n",
       "</table>\n",
       "</div>"
      ],
      "text/plain": [
       "   calls  minutes  messages   mb_used  is_ultra\n",
       "0   40.0   311.90      83.0  19915.42         0\n",
       "1   85.0   516.75      56.0  22696.96         0\n",
       "2   77.0   467.66      86.0  21060.45         0\n",
       "3  106.0   745.53      81.0   8437.39         1\n",
       "4   66.0   418.74       1.0  14502.75         0"
      ]
     },
     "metadata": {},
     "output_type": "display_data"
    },
    {
     "name": "stdout",
     "output_type": "stream",
     "text": [
      "----------------------------------------------------------------------------------------------------\n",
      "Info:\n",
      "\n",
      "<class 'pandas.core.frame.DataFrame'>\n",
      "RangeIndex: 3214 entries, 0 to 3213\n",
      "Data columns (total 5 columns):\n",
      "calls       3214 non-null float64\n",
      "minutes     3214 non-null float64\n",
      "messages    3214 non-null float64\n",
      "mb_used     3214 non-null float64\n",
      "is_ultra    3214 non-null int64\n",
      "dtypes: float64(4), int64(1)\n",
      "memory usage: 125.7 KB\n"
     ]
    },
    {
     "data": {
      "text/plain": [
       "None"
      ]
     },
     "metadata": {},
     "output_type": "display_data"
    },
    {
     "name": "stdout",
     "output_type": "stream",
     "text": [
      "----------------------------------------------------------------------------------------------------\n",
      "Describe:\n",
      "\n"
     ]
    },
    {
     "data": {
      "text/html": [
       "<div>\n",
       "<style scoped>\n",
       "    .dataframe tbody tr th:only-of-type {\n",
       "        vertical-align: middle;\n",
       "    }\n",
       "\n",
       "    .dataframe tbody tr th {\n",
       "        vertical-align: top;\n",
       "    }\n",
       "\n",
       "    .dataframe thead th {\n",
       "        text-align: right;\n",
       "    }\n",
       "</style>\n",
       "<table border=\"1\" class=\"dataframe\">\n",
       "  <thead>\n",
       "    <tr style=\"text-align: right;\">\n",
       "      <th></th>\n",
       "      <th>calls</th>\n",
       "      <th>minutes</th>\n",
       "      <th>messages</th>\n",
       "      <th>mb_used</th>\n",
       "      <th>is_ultra</th>\n",
       "    </tr>\n",
       "  </thead>\n",
       "  <tbody>\n",
       "    <tr>\n",
       "      <td>count</td>\n",
       "      <td>3214.000000</td>\n",
       "      <td>3214.000000</td>\n",
       "      <td>3214.000000</td>\n",
       "      <td>3214.000000</td>\n",
       "      <td>3214.000000</td>\n",
       "    </tr>\n",
       "    <tr>\n",
       "      <td>mean</td>\n",
       "      <td>63.038892</td>\n",
       "      <td>438.208787</td>\n",
       "      <td>38.281269</td>\n",
       "      <td>17207.673836</td>\n",
       "      <td>0.306472</td>\n",
       "    </tr>\n",
       "    <tr>\n",
       "      <td>std</td>\n",
       "      <td>33.236368</td>\n",
       "      <td>234.569872</td>\n",
       "      <td>36.148326</td>\n",
       "      <td>7570.968246</td>\n",
       "      <td>0.461100</td>\n",
       "    </tr>\n",
       "    <tr>\n",
       "      <td>min</td>\n",
       "      <td>0.000000</td>\n",
       "      <td>0.000000</td>\n",
       "      <td>0.000000</td>\n",
       "      <td>0.000000</td>\n",
       "      <td>0.000000</td>\n",
       "    </tr>\n",
       "    <tr>\n",
       "      <td>25%</td>\n",
       "      <td>40.000000</td>\n",
       "      <td>274.575000</td>\n",
       "      <td>9.000000</td>\n",
       "      <td>12491.902500</td>\n",
       "      <td>0.000000</td>\n",
       "    </tr>\n",
       "    <tr>\n",
       "      <td>50%</td>\n",
       "      <td>62.000000</td>\n",
       "      <td>430.600000</td>\n",
       "      <td>30.000000</td>\n",
       "      <td>16943.235000</td>\n",
       "      <td>0.000000</td>\n",
       "    </tr>\n",
       "    <tr>\n",
       "      <td>75%</td>\n",
       "      <td>82.000000</td>\n",
       "      <td>571.927500</td>\n",
       "      <td>57.000000</td>\n",
       "      <td>21424.700000</td>\n",
       "      <td>1.000000</td>\n",
       "    </tr>\n",
       "    <tr>\n",
       "      <td>max</td>\n",
       "      <td>244.000000</td>\n",
       "      <td>1632.060000</td>\n",
       "      <td>224.000000</td>\n",
       "      <td>49745.730000</td>\n",
       "      <td>1.000000</td>\n",
       "    </tr>\n",
       "  </tbody>\n",
       "</table>\n",
       "</div>"
      ],
      "text/plain": [
       "             calls      minutes     messages       mb_used     is_ultra\n",
       "count  3214.000000  3214.000000  3214.000000   3214.000000  3214.000000\n",
       "mean     63.038892   438.208787    38.281269  17207.673836     0.306472\n",
       "std      33.236368   234.569872    36.148326   7570.968246     0.461100\n",
       "min       0.000000     0.000000     0.000000      0.000000     0.000000\n",
       "25%      40.000000   274.575000     9.000000  12491.902500     0.000000\n",
       "50%      62.000000   430.600000    30.000000  16943.235000     0.000000\n",
       "75%      82.000000   571.927500    57.000000  21424.700000     1.000000\n",
       "max     244.000000  1632.060000   224.000000  49745.730000     1.000000"
      ]
     },
     "metadata": {},
     "output_type": "display_data"
    },
    {
     "name": "stdout",
     "output_type": "stream",
     "text": [
      "----------------------------------------------------------------------------------------------------\n"
     ]
    },
    {
     "data": {
      "text/plain": [
       "<bound method NDFrame.describe of       calls  minutes  messages   mb_used  is_ultra\n",
       "0      40.0   311.90      83.0  19915.42         0\n",
       "1      85.0   516.75      56.0  22696.96         0\n",
       "2      77.0   467.66      86.0  21060.45         0\n",
       "3     106.0   745.53      81.0   8437.39         1\n",
       "4      66.0   418.74       1.0  14502.75         0\n",
       "...     ...      ...       ...       ...       ...\n",
       "3209  122.0   910.98      20.0  35124.90         1\n",
       "3210   25.0   190.36       0.0   3275.61         0\n",
       "3211   97.0   634.44      70.0  13974.06         0\n",
       "3212   64.0   462.32      90.0  31239.78         0\n",
       "3213   80.0   566.09       6.0  29480.52         1\n",
       "\n",
       "[3214 rows x 5 columns]>"
      ]
     },
     "metadata": {},
     "output_type": "display_data"
    },
    {
     "name": "stdout",
     "output_type": "stream",
     "text": [
      "\n",
      "Columns with nulls:\n",
      "\n",
      "\u001b[1mThere are no columns with NA.\u001b[0m\n"
     ]
    },
    {
     "data": {
      "text/plain": [
       "None"
      ]
     },
     "metadata": {},
     "output_type": "display_data"
    },
    {
     "name": "stdout",
     "output_type": "stream",
     "text": [
      "----------------------------------------------------------------------------------------------------\n",
      "Shape:\n",
      "(3214, 5)\n",
      "----------------------------------------------------------------------------------------------------\n",
      "Duplicated:\n",
      "\u001b[1mWe have 0 duplicated rows.\n",
      "\u001b[0m\n",
      "\n"
     ]
    }
   ],
   "source": [
    "# study the general information about the dataset \n",
    "print('General information about the dataframe')\n",
    "get_info(df)"
   ]
  },
  {
   "cell_type": "code",
   "execution_count": 5,
   "metadata": {},
   "outputs": [],
   "source": [
    "#change messages and calls type to int\n",
    "df['messages'] = df['messages'].astype(int) \n",
    "df['calls'] = df['calls'].astype(int)"
   ]
  },
  {
   "cell_type": "markdown",
   "metadata": {},
   "source": [
    "**Conclusion**\n",
    "\n",
    "- The data has already been preprocessed, and is ready for modeling. \n",
    "- Let's move to the spliting part."
   ]
  },
  {
   "cell_type": "markdown",
   "metadata": {},
   "source": [
    "<div class=\"alert alert-success\">\n",
    "    <b>Reviewer's comment</b><br>\n",
    "    The data was loaded and inspected!\n",
    "</div>"
   ]
  },
  {
   "cell_type": "markdown",
   "metadata": {},
   "source": [
    "# <a id=\"2\">Split the source data"
   ]
  },
  {
   "cell_type": "markdown",
   "metadata": {},
   "source": [
    "Let's start by splitting the source dataset into \n",
    "- 60% training set\n",
    "- 20% validation set\n",
    "- 20% testing sets\n",
    "\n",
    "To do this we will need to use `sklearn.model_selection.train_test_split` twice."
   ]
  },
  {
   "cell_type": "markdown",
   "metadata": {},
   "source": [
    "- First we split the whole data into two parts: \n",
    "    - 80% train\n",
    "    - 20% test\n",
    "- Then we split the 80% training obtained set into:\n",
    "    - 60% train set\n",
    "    - 20% validation set"
   ]
  },
  {
   "cell_type": "code",
   "execution_count": 6,
   "metadata": {},
   "outputs": [],
   "source": [
    "# split data into training and testing \n",
    "df_train, df_test = train_test_split(df, test_size=0.20, random_state=12345)\n",
    "\n",
    "# split train data into validation and train \n",
    "df_train, df_valid = train_test_split(df_train, test_size=0.25, random_state=12345) # 0.25 * 0.80 = 0.20 for validation size"
   ]
  },
  {
   "cell_type": "code",
   "execution_count": 7,
   "metadata": {},
   "outputs": [
    {
     "name": "stdout",
     "output_type": "stream",
     "text": [
      "Train set contains 1928: 60% of the data\n",
      "Validation set contains 643: 20% of the data\n",
      "Test set contains 643: 20% of the data\n"
     ]
    }
   ],
   "source": [
    "# display the shape of the split dataset\n",
    "print('Train set contains {}'.format(df_train.shape[0]) + ': 60% of the data') \n",
    "print('Validation set contains {}'.format(df_valid.shape[0]) + ': 20% of the data')\n",
    "print('Test set contains {}'.format(df_test.shape[0]) + ': 20% of the data')"
   ]
  },
  {
   "cell_type": "code",
   "execution_count": 8,
   "metadata": {},
   "outputs": [
    {
     "name": "stdout",
     "output_type": "stream",
     "text": [
      "\n",
      "Train features : (1928, 4)\n",
      "Train target   : (1928,)\n",
      "Valid features : (643, 4)\n",
      "Valid target   : (643,)\n",
      "Test features  : (643, 4)\n",
      "Test target    : (643,)\n"
     ]
    }
   ],
   "source": [
    "# declare Features and Targets \n",
    "#train\n",
    "features_train = df_train.drop(['is_ultra'], axis=1)\n",
    "target_train = df_train['is_ultra']\n",
    "#valid\n",
    "features_valid = df_valid.drop(['is_ultra'], axis=1)\n",
    "target_valid = df_valid['is_ultra']\n",
    "#test\n",
    "features_test = df_test.drop(['is_ultra'], axis=1)\n",
    "target_test = df_test['is_ultra']\n",
    "\n",
    "print('')\n",
    "print('Train features :', features_train.shape)\n",
    "print('Train target   :',target_train.shape)\n",
    "print('Valid features :',features_valid.shape)\n",
    "print('Valid target   :',target_valid.shape)\n",
    "print('Test features  :',features_test.shape)\n",
    "print('Test target    :',target_test.shape)"
   ]
  },
  {
   "cell_type": "markdown",
   "metadata": {},
   "source": [
    "- Now that we've splited the data succesfully, we are able to move to the next step."
   ]
  },
  {
   "cell_type": "markdown",
   "metadata": {},
   "source": [
    "<div class=\"alert alert-success\">\n",
    "    <b>Reviewer's comment</b><br>\n",
    "    The data was split into train, validation and test sets at a reasonable ratio\n",
    "</div>"
   ]
  },
  {
   "cell_type": "markdown",
   "metadata": {},
   "source": [
    "# <a id=\"3\">Hyperparameters Tunning"
   ]
  },
  {
   "cell_type": "markdown",
   "metadata": {},
   "source": [
    "- We now, will build and investigate the quality of different models by tunning the hyperparameters, and see what we can conclude.\n",
    "- Since it's a classification task, we will investigate through the following classifiers, and decide after the results which is the best for our model:\n",
    "    - decision tree classifier, \n",
    "    - logistic regression, \n",
    "    - random forest."
   ]
  },
  {
   "cell_type": "markdown",
   "metadata": {},
   "source": [
    "## Decision Tree\n",
    "\n",
    "Creating this decision tree classifier function to \n",
    "- train the model, \n",
    "- make prediction on train and validation dataset, \n",
    "- print model accuracy for training and validation datasets \n",
    "- and plot model accuracy scores on train and validation sets for visual comparison\n"
   ]
  },
  {
   "cell_type": "code",
   "execution_count": 9,
   "metadata": {},
   "outputs": [],
   "source": [
    "# create the decision tree classifier\n",
    "def decision_tree_classifier(X_train, y_train, X_valid, y_valid):\n",
    "    # define lists to collect scores\n",
    "    train_scores = []\n",
    "    valid_scores = []\n",
    "    # define the tree depth\n",
    "    tree_depth = [i for i in range(1, 21)]\n",
    "    # create a loop for max_depth from 1 to 21\n",
    "    for depth in tree_depth:\n",
    "        model = DecisionTreeClassifier(random_state=12345, max_depth = depth) # create an instance of a class\n",
    "        model.fit(X_train, y_train) # train the model\n",
    "        # make predictions on train set\n",
    "        train_predictions = model.predict(X_train)\n",
    "        train_predictions_acc = accuracy_score(y_train, train_predictions)\n",
    "        train_scores.append(train_predictions_acc)\n",
    "        # make predictions on validation set\n",
    "        predictions_valid = model.predict(X_valid)\n",
    "        predictions_valid_acc = accuracy_score(y_valid, predictions_valid)\n",
    "        valid_scores.append(predictions_valid_acc)\n",
    "        print('Max depth and accuracy for decision tree classifier')\n",
    "        print('-'*40)\n",
    "        print(\"\\033[1m\" + 'max_depth = {}'.format(depth) + \"\\033[0m\")\n",
    "        print('Training set: {:.3f}'.format(accuracy_score(y_train, train_predictions)))\n",
    "        print('Validation set: {:.3f}'.format(accuracy_score(y_valid, predictions_valid)))\n",
    "        print()\n",
    "    # plot of train and validation scores vs tree depth\n",
    "    plt.figure(figsize=(10,6))\n",
    "    plt.plot(tree_depth, train_scores, '-*', label='Train')\n",
    "    plt.plot(tree_depth, valid_scores, '-o', label='Validation')\n",
    "    plt.title('Plot of train and validation scores vs tree depth')\n",
    "    plt.xlabel('Max depth')\n",
    "    plt.ylabel('Accuracy')\n",
    "    plt.legend()\n",
    "    plt.show()"
   ]
  },
  {
   "cell_type": "code",
   "execution_count": 10,
   "metadata": {},
   "outputs": [
    {
     "name": "stdout",
     "output_type": "stream",
     "text": [
      "Max depth and accuracy for decision tree classifier\n",
      "----------------------------------------\n",
      "\u001b[1mmax_depth = 1\u001b[0m\n",
      "Training set: 0.758\n",
      "Validation set: 0.739\n",
      "\n",
      "Max depth and accuracy for decision tree classifier\n",
      "----------------------------------------\n",
      "\u001b[1mmax_depth = 2\u001b[0m\n",
      "Training set: 0.792\n",
      "Validation set: 0.757\n",
      "\n",
      "Max depth and accuracy for decision tree classifier\n",
      "----------------------------------------\n",
      "\u001b[1mmax_depth = 3\u001b[0m\n",
      "Training set: 0.812\n",
      "Validation set: 0.765\n",
      "\n",
      "Max depth and accuracy for decision tree classifier\n",
      "----------------------------------------\n",
      "\u001b[1mmax_depth = 4\u001b[0m\n",
      "Training set: 0.821\n",
      "Validation set: 0.764\n",
      "\n",
      "Max depth and accuracy for decision tree classifier\n",
      "----------------------------------------\n",
      "\u001b[1mmax_depth = 5\u001b[0m\n",
      "Training set: 0.827\n",
      "Validation set: 0.759\n",
      "\n",
      "Max depth and accuracy for decision tree classifier\n",
      "----------------------------------------\n",
      "\u001b[1mmax_depth = 6\u001b[0m\n",
      "Training set: 0.834\n",
      "Validation set: 0.757\n",
      "\n",
      "Max depth and accuracy for decision tree classifier\n",
      "----------------------------------------\n",
      "\u001b[1mmax_depth = 7\u001b[0m\n",
      "Training set: 0.851\n",
      "Validation set: 0.774\n",
      "\n",
      "Max depth and accuracy for decision tree classifier\n",
      "----------------------------------------\n",
      "\u001b[1mmax_depth = 8\u001b[0m\n",
      "Training set: 0.866\n",
      "Validation set: 0.767\n",
      "\n",
      "Max depth and accuracy for decision tree classifier\n",
      "----------------------------------------\n",
      "\u001b[1mmax_depth = 9\u001b[0m\n",
      "Training set: 0.875\n",
      "Validation set: 0.762\n",
      "\n",
      "Max depth and accuracy for decision tree classifier\n",
      "----------------------------------------\n",
      "\u001b[1mmax_depth = 10\u001b[0m\n",
      "Training set: 0.891\n",
      "Validation set: 0.771\n",
      "\n",
      "Max depth and accuracy for decision tree classifier\n",
      "----------------------------------------\n",
      "\u001b[1mmax_depth = 11\u001b[0m\n",
      "Training set: 0.902\n",
      "Validation set: 0.759\n",
      "\n",
      "Max depth and accuracy for decision tree classifier\n",
      "----------------------------------------\n",
      "\u001b[1mmax_depth = 12\u001b[0m\n",
      "Training set: 0.915\n",
      "Validation set: 0.756\n",
      "\n",
      "Max depth and accuracy for decision tree classifier\n",
      "----------------------------------------\n",
      "\u001b[1mmax_depth = 13\u001b[0m\n",
      "Training set: 0.924\n",
      "Validation set: 0.750\n",
      "\n",
      "Max depth and accuracy for decision tree classifier\n",
      "----------------------------------------\n",
      "\u001b[1mmax_depth = 14\u001b[0m\n",
      "Training set: 0.937\n",
      "Validation set: 0.757\n",
      "\n",
      "Max depth and accuracy for decision tree classifier\n",
      "----------------------------------------\n",
      "\u001b[1mmax_depth = 15\u001b[0m\n",
      "Training set: 0.944\n",
      "Validation set: 0.753\n",
      "\n",
      "Max depth and accuracy for decision tree classifier\n",
      "----------------------------------------\n",
      "\u001b[1mmax_depth = 16\u001b[0m\n",
      "Training set: 0.951\n",
      "Validation set: 0.750\n",
      "\n",
      "Max depth and accuracy for decision tree classifier\n",
      "----------------------------------------\n",
      "\u001b[1mmax_depth = 17\u001b[0m\n",
      "Training set: 0.957\n",
      "Validation set: 0.739\n",
      "\n",
      "Max depth and accuracy for decision tree classifier\n",
      "----------------------------------------\n",
      "\u001b[1mmax_depth = 18\u001b[0m\n",
      "Training set: 0.964\n",
      "Validation set: 0.742\n",
      "\n",
      "Max depth and accuracy for decision tree classifier\n",
      "----------------------------------------\n",
      "\u001b[1mmax_depth = 19\u001b[0m\n",
      "Training set: 0.970\n",
      "Validation set: 0.736\n",
      "\n",
      "Max depth and accuracy for decision tree classifier\n",
      "----------------------------------------\n",
      "\u001b[1mmax_depth = 20\u001b[0m\n",
      "Training set: 0.976\n",
      "Validation set: 0.729\n",
      "\n"
     ]
    },
    {
     "data": {
      "image/png": "[encoded data removed]",
      "text/plain": [
       "<Figure size 720x432 with 1 Axes>"
      ]
     },
     "metadata": {
      "needs_background": "light"
     },
     "output_type": "display_data"
    }
   ],
   "source": [
    "decision_tree_classifier(features_train, target_train, features_valid, target_valid)"
   ]
  },
  {
   "cell_type": "markdown",
   "metadata": {},
   "source": [
    "**Conclusion**\n",
    "\n",
    "The decision tree classifier can determine the right plan when we run a learning algorithm to train the model to make predictions. \n",
    "\n",
    "- By creating a loop for max_depth hyperparameter from 1 to 20, we can see what depth gives us the best fit. \n",
    "- We note that decision trees with few depth generally do not overfit but have poor performance (high bias, low variance).\n",
    "- deep trees (i.e. high depth) generally do overfit and have good performance (low bias, high variance). \n",
    "- Our desirable tree depth is one that is not so shallow and has low performance, and also not so deep that overfits the training dataset. \n",
    "- We need to have a balance between bias and variance - bias variance tradeoff. \n",
    "- We plot the model accuracy scores on the train and validation sets to visualize this. \n",
    "- We can notice how the accuracy of the validation test keeps increasing until it gets to max_depth of ~4. After this depth, the accuracy starts to decline. \n",
    "- At max_depth of 4, we have an accuracy of 82.05% for the training set, and 76.36% for the validation set. We choose a tree depth of 4 before the model begins to overfit the training dataset."
   ]
  },
  {
   "cell_type": "markdown",
   "metadata": {},
   "source": [
    "<div class=\"alert alert-warning\">\n",
    "    <b>Reviewer's comment</b><br>\n",
    "    Isn't maximum validation set accuracy achieved at max_depth of 7?\n",
    "</div>"
   ]
  },
  {
   "cell_type": "markdown",
   "metadata": {},
   "source": [
    "## Logistic Regression"
   ]
  },
  {
   "cell_type": "markdown",
   "metadata": {},
   "source": [
    "Creating this logistic regression model function \n",
    "- to train the model, \n",
    "- make prediction on train and validation dataset, \n",
    "- print model accuracy for training and validation datasets"
   ]
  },
  {
   "cell_type": "code",
   "execution_count": 11,
   "metadata": {},
   "outputs": [],
   "source": [
    "# create the logistic regression model\n",
    "def logistic_regression(X_train, y_train, X_valid, y_valid):\n",
    "    model = LogisticRegression(random_state=12345, solver='liblinear')\n",
    "    model.fit(X_train, y_train) # train the model \n",
    "    model.score(X_train, y_train) # check the model's accuracy with score() method\n",
    "    train_predictions = model.predict(X_train) # make predictions on train set\n",
    "    predictions_valid = model.predict(X_valid) # make predictions on validation set\n",
    "    print('Accuracy for logistic regression model')\n",
    "    print('-'*40)\n",
    "    print('Training set:', accuracy_score(y_train, train_predictions))\n",
    "    print('Validation set:', accuracy_score(y_valid, predictions_valid))"
   ]
  },
  {
   "cell_type": "code",
   "execution_count": 12,
   "metadata": {},
   "outputs": [
    {
     "name": "stdout",
     "output_type": "stream",
     "text": [
      "Accuracy for logistic regression model\n",
      "----------------------------------------\n",
      "Training set: 0.703838174273859\n",
      "Validation set: 0.6967340590979783\n"
     ]
    }
   ],
   "source": [
    "logistic_regression(features_train, target_train, features_valid, target_valid)"
   ]
  },
  {
   "cell_type": "markdown",
   "metadata": {},
   "source": [
    "- The model training is fast, but the accuracy is lower. \n",
    "- The logistic regression model gave an accuracy of 70.38% for the training set, and about 69%/70% for the validation sets. This is lower than our target 75% accuracy. \n",
    "- We can see here that neither the training nor the validation score is high. \n",
    "- This is because the model is not complex enough hence underfitting occurs. \n",
    "- We cannot use this model since both training and validation scores are low."
   ]
  },
  {
   "cell_type": "markdown",
   "metadata": {},
   "source": [
    "## Random Forest "
   ]
  },
  {
   "cell_type": "markdown",
   "metadata": {},
   "source": [
    "Creating this random forest classifier function to:\n",
    "- train the model, \n",
    "- make prediction on train and validation dataset, \n",
    "- print model accuracy for training and validation datasets\n",
    "- visualize model accuracy scores on train and validation sets"
   ]
  },
  {
   "cell_type": "code",
   "execution_count": 13,
   "metadata": {},
   "outputs": [],
   "source": [
    "# create the random forest classifier model\n",
    "def random_forest_classifier(X_train, y_train, X_valid, y_valid):\n",
    "    # define lists to collect scores\n",
    "    train_scores = []\n",
    "    valid_scores = []\n",
    "    # define the n_estimator range\n",
    "    estimator_depth = [i for i in range(1, 21)]\n",
    "    # create a loop for n_estimator from 1 to 21\n",
    "    for estimator in estimator_depth:\n",
    "        model = RandomForestClassifier(random_state=12345, n_estimators=estimator)\n",
    "        model.fit(X_train, y_train) # train the model \n",
    "        # make predictions on train set\n",
    "        train_predictions = model.predict(X_train)\n",
    "        train_predictions_acc = accuracy_score(y_train, train_predictions)\n",
    "        train_scores.append(train_predictions_acc)\n",
    "        # make predictions on validation set\n",
    "        predictions_valid = model.predict(X_valid)\n",
    "        predictions_valid_acc = accuracy_score(y_valid, predictions_valid)\n",
    "        valid_scores.append(predictions_valid_acc)\n",
    "        print('n_estimator and accuracy for random forest classifier')\n",
    "        print('-'*40)\n",
    "        print(\"\\033[1m\" + 'n_estimator = {}'.format(estimator) + \"\\033[0m\")\n",
    "        print('Training set: {:.3f}'.format(accuracy_score(y_train, train_predictions)))\n",
    "        print('Validation set: {:.3f}'.format(accuracy_score(y_valid, predictions_valid)))\n",
    "        print()\n",
    "    # plot of train and validation scores vs n_estimator\n",
    "    plt.figure(figsize=(10,6))\n",
    "    plt.plot(estimator_depth, train_scores, '-*', label='Train')\n",
    "    plt.plot(estimator_depth, valid_scores, '-o', label='Validation')\n",
    "    plt.title('Plot of train and validation scores vs n_estimator')\n",
    "    plt.xlabel('Number of estimators')\n",
    "    plt.ylabel('Accuracy')\n",
    "    plt.legend()\n",
    "    plt.show()"
   ]
  },
  {
   "cell_type": "code",
   "execution_count": 14,
   "metadata": {},
   "outputs": [
    {
     "name": "stdout",
     "output_type": "stream",
     "text": [
      "n_estimator and accuracy for random forest classifier\n",
      "----------------------------------------\n",
      "\u001b[1mn_estimator = 1\u001b[0m\n",
      "Training set: 0.902\n",
      "Validation set: 0.703\n",
      "\n",
      "n_estimator and accuracy for random forest classifier\n",
      "----------------------------------------\n",
      "\u001b[1mn_estimator = 2\u001b[0m\n",
      "Training set: 0.910\n",
      "Validation set: 0.757\n",
      "\n",
      "n_estimator and accuracy for random forest classifier\n",
      "----------------------------------------\n",
      "\u001b[1mn_estimator = 3\u001b[0m\n",
      "Training set: 0.959\n",
      "Validation set: 0.745\n",
      "\n",
      "n_estimator and accuracy for random forest classifier\n",
      "----------------------------------------\n",
      "\u001b[1mn_estimator = 4\u001b[0m\n",
      "Training set: 0.948\n",
      "Validation set: 0.765\n",
      "\n",
      "n_estimator and accuracy for random forest classifier\n",
      "----------------------------------------\n",
      "\u001b[1mn_estimator = 5\u001b[0m\n",
      "Training set: 0.971\n",
      "Validation set: 0.762\n",
      "\n",
      "n_estimator and accuracy for random forest classifier\n",
      "----------------------------------------\n",
      "\u001b[1mn_estimator = 6\u001b[0m\n",
      "Training set: 0.965\n",
      "Validation set: 0.770\n",
      "\n",
      "n_estimator and accuracy for random forest classifier\n",
      "----------------------------------------\n",
      "\u001b[1mn_estimator = 7\u001b[0m\n",
      "Training set: 0.979\n",
      "Validation set: 0.771\n",
      "\n",
      "n_estimator and accuracy for random forest classifier\n",
      "----------------------------------------\n",
      "\u001b[1mn_estimator = 8\u001b[0m\n",
      "Training set: 0.972\n",
      "Validation set: 0.787\n",
      "\n",
      "n_estimator and accuracy for random forest classifier\n",
      "----------------------------------------\n",
      "\u001b[1mn_estimator = 9\u001b[0m\n",
      "Training set: 0.982\n",
      "Validation set: 0.784\n",
      "\n",
      "n_estimator and accuracy for random forest classifier\n",
      "----------------------------------------\n",
      "\u001b[1mn_estimator = 10\u001b[0m\n",
      "Training set: 0.980\n",
      "Validation set: 0.788\n",
      "\n",
      "n_estimator and accuracy for random forest classifier\n",
      "----------------------------------------\n",
      "\u001b[1mn_estimator = 11\u001b[0m\n",
      "Training set: 0.988\n",
      "Validation set: 0.781\n",
      "\n",
      "n_estimator and accuracy for random forest classifier\n",
      "----------------------------------------\n",
      "\u001b[1mn_estimator = 12\u001b[0m\n",
      "Training set: 0.984\n",
      "Validation set: 0.782\n",
      "\n",
      "n_estimator and accuracy for random forest classifier\n",
      "----------------------------------------\n",
      "\u001b[1mn_estimator = 13\u001b[0m\n",
      "Training set: 0.990\n",
      "Validation set: 0.778\n",
      "\n",
      "n_estimator and accuracy for random forest classifier\n",
      "----------------------------------------\n",
      "\u001b[1mn_estimator = 14\u001b[0m\n",
      "Training set: 0.987\n",
      "Validation set: 0.785\n",
      "\n",
      "n_estimator and accuracy for random forest classifier\n",
      "----------------------------------------\n",
      "\u001b[1mn_estimator = 15\u001b[0m\n",
      "Training set: 0.992\n",
      "Validation set: 0.784\n",
      "\n",
      "n_estimator and accuracy for random forest classifier\n",
      "----------------------------------------\n",
      "\u001b[1mn_estimator = 16\u001b[0m\n",
      "Training set: 0.990\n",
      "Validation set: 0.784\n",
      "\n",
      "n_estimator and accuracy for random forest classifier\n",
      "----------------------------------------\n",
      "\u001b[1mn_estimator = 17\u001b[0m\n",
      "Training set: 0.993\n",
      "Validation set: 0.778\n",
      "\n",
      "n_estimator and accuracy for random forest classifier\n",
      "----------------------------------------\n",
      "\u001b[1mn_estimator = 18\u001b[0m\n",
      "Training set: 0.992\n",
      "Validation set: 0.787\n",
      "\n",
      "n_estimator and accuracy for random forest classifier\n",
      "----------------------------------------\n",
      "\u001b[1mn_estimator = 19\u001b[0m\n",
      "Training set: 0.995\n",
      "Validation set: 0.787\n",
      "\n",
      "n_estimator and accuracy for random forest classifier\n",
      "----------------------------------------\n",
      "\u001b[1mn_estimator = 20\u001b[0m\n",
      "Training set: 0.995\n",
      "Validation set: 0.790\n",
      "\n"
     ]
    },
    {
     "data": {
      "image/png": "[encoded data removed]",
      "text/plain": [
       "<Figure size 720x432 with 1 Axes>"
      ]
     },
     "metadata": {
      "needs_background": "light"
     },
     "output_type": "display_data"
    }
   ],
   "source": [
    "random_forest_classifier(features_train, target_train, features_valid, target_valid)"
   ]
  },
  {
   "cell_type": "markdown",
   "metadata": {},
   "source": [
    "- We make the random_state parameter pseudorandomness static. \n",
    "- We also set the number of trees in the forest using n_estimators hyperparameter. \n",
    "- Using n_estimator value of 10, the random forest classifier gave an accuracy of 98.0% for the training data, and 78.80% for the validation data."
   ]
  },
  {
   "cell_type": "markdown",
   "metadata": {},
   "source": [
    "<div class=\"alert alert-warning\">\n",
    "    <b>Reviewer's comment</b><br>\n",
    "    Looking at the learning curve, it seems that we might still grow the number of trees to achieve a better validation accuracy (in fact, now the maximum validation accuracy is achieved by a model with n_estimators = 20 \n",
    "</div>"
   ]
  },
  {
   "cell_type": "markdown",
   "metadata": {},
   "source": [
    "## Conclusion\n",
    "\n",
    "From the investigation of different models, we can see that:\n",
    "- At n_estimators = 10, the random forest gives an accuracy of 98.0% for the training data, and 78.80% for the validation data.\n",
    "- The least accurate model was logistic regression with an accuracy of 70.38% for the training set, and about 69.67% for the validation sets.\n",
    "- So we will choose the random forest classifier to test prediction on the test data."
   ]
  },
  {
   "cell_type": "markdown",
   "metadata": {},
   "source": [
    "<div class=\"alert alert-success\">\n",
    "    <b>Reviewer's comment</b><br>\n",
    "    Great! You tried a couple of different models and tuned their hyperparameters correctly utilizing the train and validation sets\n",
    "</div>"
   ]
  },
  {
   "cell_type": "markdown",
   "metadata": {},
   "source": [
    "# <a id=\"4\">Quality Assesment"
   ]
  },
  {
   "cell_type": "markdown",
   "metadata": {},
   "source": [
    "## Model testing"
   ]
  },
  {
   "cell_type": "markdown",
   "metadata": {},
   "source": [
    "From the previous steps, we concluded that random forest classifier is the most accurate model. Let’s use it for our final model."
   ]
  },
  {
   "cell_type": "code",
   "execution_count": 15,
   "metadata": {
    "scrolled": true
   },
   "outputs": [
    {
     "name": "stdout",
     "output_type": "stream",
     "text": [
      "Test set: 0.7869362363919129\n"
     ]
    }
   ],
   "source": [
    "# Testing the random forest classifier model quality\n",
    "model = RandomForestClassifier(random_state=12345, n_estimators=10)\n",
    "model.fit(features_train, target_train) # train the model \n",
    "model.score(features_train, target_train) # check the model's accuracy with score() method\n",
    "test_predictions = model.predict(features_test) # make predictions on test set    \n",
    "\n",
    "print('Test set:', accuracy_score(target_test, test_predictions))"
   ]
  },
  {
   "cell_type": "markdown",
   "metadata": {},
   "source": [
    "Using a **random forest classifier**, when testing the model with the test set, the **accuracy obtained is 78.69%**"
   ]
  },
  {
   "cell_type": "markdown",
   "metadata": {},
   "source": [
    "<div class=\"alert alert-success\">\n",
    "    <b>Reviewer's comment</b><br>\n",
    "    Final model was evaluated on the test set correctly\n",
    "</div>"
   ]
  },
  {
   "cell_type": "markdown",
   "metadata": {},
   "source": [
    "# <a id=\"5\">Sanity check the model"
   ]
  },
  {
   "cell_type": "markdown",
   "metadata": {},
   "source": [
    "- In this section, we want to get an idea of the accuracy of the model on our validation set. \n",
    "- We can fit the model on the training set and make predictions on the validation set, then evaluate the effectiveness of our algorithm. \n",
    "- We can judge the effectiveness of the machine learning algorithm by computing the \n",
    "    - precision, \n",
    "    - recall,\n",
    "    - F1 score. \n",
    "    - balanced accuracy score, \n",
    "    - ROC score, \n",
    "    - confusion matrix, \n",
    "    - classification report."
   ]
  },
  {
   "cell_type": "code",
   "execution_count": 16,
   "metadata": {},
   "outputs": [],
   "source": [
    "# function to compute the precision, recall, and F1 score\n",
    "def show_sanity_check(X_train, y_train, X_valid, y_valid):\n",
    "    \"\"\"\n",
    "    This function computes the confusion matrix, precision, recall,\n",
    "    F1-score, accuracy score, balanced accuracy score, ROC score as\n",
    "    a way to judge the effectiveness of the machine learning algorithm\n",
    "    \"\"\"\n",
    "    model = RandomForestClassifier(random_state=12345)\n",
    "    model.fit(X_train, y_train)\n",
    "    predictions_valid = model.predict(X_valid) \n",
    "    print(\"\\033[1m\" + 'Confusion Matrix' + \"\\033[0m\")\n",
    "    print('-'*50)\n",
    "    print(confusion_matrix(y_valid, predictions_valid))\n",
    "    print()\n",
    "    print(\"\\033[1m\" + 'Recall: ' + \"\\033[0m\", recall_score(y_valid, predictions_valid))\n",
    "    print()\n",
    "    print(\"\\033[1m\" + 'Precision: ' + \"\\033[0m\", '{:.3f}'.format(precision_score(y_valid, predictions_valid)))\n",
    "    print()\n",
    "    print(\"\\033[1m\" + 'F1-score: ' + \"\\033[0m\", '{:.3f}'.format(f1_score(y_valid, predictions_valid)))\n",
    "    print()\n",
    "    print(\"\\033[1m\" + 'Accuracy Score: ' + \"\\033[0m\", '{:.2%}'.format(accuracy_score(y_valid, predictions_valid)))\n",
    "    print()\n",
    "    print(\"\\033[1m\" + 'Balanced Accuracy Score: ' + \"\\033[0m\", '{:.2%}'.format(balanced_accuracy_score(y_valid, predictions_valid)))\n",
    "    print()\n",
    "    print(\"\\033[1m\" + 'ROC Score: ' + \"\\033[0m\", '{:.2%}'.format(roc_auc_score(y_valid, predictions_valid)))\n",
    "    print()\n",
    "    print(\"\\033[1m\" + 'Classification report' + \"\\033[0m\")\n",
    "    print('-'*50)\n",
    "    print(classification_report(y_valid, predictions_valid))\n",
    "    print()"
   ]
  },
  {
   "cell_type": "code",
   "execution_count": 17,
   "metadata": {},
   "outputs": [
    {
     "name": "stdout",
     "output_type": "stream",
     "text": [
      "\u001b[1mConfusion Matrix\u001b[0m\n",
      "--------------------------------------------------\n",
      "[[404  39]\n",
      " [ 97 103]]\n",
      "\n",
      "\u001b[1mRecall: \u001b[0m 0.515\n",
      "\n",
      "\u001b[1mPrecision: \u001b[0m 0.725\n",
      "\n",
      "\u001b[1mF1-score: \u001b[0m 0.602\n",
      "\n",
      "\u001b[1mAccuracy Score: \u001b[0m 78.85%\n",
      "\n",
      "\u001b[1mBalanced Accuracy Score: \u001b[0m 71.35%\n",
      "\n",
      "\u001b[1mROC Score: \u001b[0m 71.35%\n",
      "\n",
      "\u001b[1mClassification report\u001b[0m\n",
      "--------------------------------------------------\n",
      "              precision    recall  f1-score   support\n",
      "\n",
      "           0       0.81      0.91      0.86       443\n",
      "           1       0.73      0.52      0.60       200\n",
      "\n",
      "    accuracy                           0.79       643\n",
      "   macro avg       0.77      0.71      0.73       643\n",
      "weighted avg       0.78      0.79      0.78       643\n",
      "\n",
      "\n"
     ]
    },
    {
     "name": "stderr",
     "output_type": "stream",
     "text": [
      "/opt/conda/lib/python3.7/site-packages/sklearn/ensemble/forest.py:245: FutureWarning: The default value of n_estimators will change from 10 in version 0.20 to 100 in 0.22.\n",
      "  \"10 in version 0.20 to 100 in 0.22.\", FutureWarning)\n"
     ]
    }
   ],
   "source": [
    "show_sanity_check(features_train, target_train, features_valid, target_valid)"
   ]
  },
  {
   "cell_type": "markdown",
   "metadata": {},
   "source": [
    "**Conclusion**\n",
    "\n",
    "- The confusion matrix gives us insight into how well our predictions hold up to the actual values and how correct our predictions are. \n",
    "- The precision of our model is 0.725. So the proportion of positive identifications was actually correct of 72.5%.\n",
    "- The Recall is 0.515, it gives the measure of how accurate our model is in identifying pattern in data. It is not close to one. \n",
    "- The F1-score is 0.602. \n",
    "- The model accuracy is 78.85% ≈ 79%. \n",
    "- As we have seen, accuracy alone does not provide a useful assessment on several crucial problems."
   ]
  },
  {
   "cell_type": "markdown",
   "metadata": {},
   "source": [
    "<div class=\"alert alert-warning\">\n",
    "    <b>Reviewer's comment</b><br>\n",
    "    <ol><li>Okay, very good assessment! You are absolutely right that accuracy is not the best metric, especially for imbalanced datasets (i.e. when the number of positive class and negative class are imbalanced), in fact the next project is devoted to this topic.\n",
    "        <li>One thing we could add is a comparison of our model against some simple baseline. For example a constant model always predicting the majority class (this model achieves an accuracy equal to the proportion of the majority class in the data for free). Having a baseline is important, because otherwise we don't really now, if our model has really learned something substantial (imagine if you didn't know how long 1 meter is, then you wouldn't really know what a length measured in meters means until someone showed you a 1 meter long stick).\n",
    "</div>"
   ]
  },
  {
   "cell_type": "markdown",
   "metadata": {},
   "source": [
    "# <a id=\"6\">Overall conclusion"
   ]
  },
  {
   "cell_type": "markdown",
   "metadata": {},
   "source": [
    "The business objective of this project is to predict the right phone plan for subscribers, to do so we went through the following steps:\n",
    "- In the first part of this project, we've investigated the data, finding no missing values, nor duplicates, but changed some data types from float to int: `calls`, `messages`.\n",
    "- We've splitted the source dataset into, 60% training set, 20% validation set and 20% testing sets.\n",
    "- Then we processed to find the best fitting model by tunning the hyperparameters. Doing this for:\n",
    "    - Decision Tree Classifier\n",
    "    - Logistic Regression\n",
    "    - Random Forest Classifier\n",
    "- We found out that:\n",
    "    - At n_estimators = 10, the random forest gives an accuracy of 98.0% for the training data, and 78.80% for the validation data.\n",
    "    - The n_estimators of 10 helps us to avoid either the overfitting or the underfitting (balance between bias and variance - bias variance tradeoff).\n",
    "    - The Random Forest Classifier gave us the best results among other classifiers. So we choose Random Forest to test prediction on the test data.\n",
    "- In the Sanity Check step, we computed the precision, F1-score, precision, recall score, balanced accuracy score, ROC score, confusion matrix, and classification report.\n",
    "\n",
    "We can say that with an accuracy of 79%. Our model achieved what the business task required, which is to develop a model that will choose the right plan for Megaline subscribers. "
   ]
  },
  {
   "cell_type": "markdown",
   "metadata": {},
   "source": [
    "<div class=\"alert alert-success\">\n",
    "    <b>Reviewer's comment</b><br>\n",
    "    Conclusions look good!\n",
    "</div>"
   ]
  },
  {
   "cell_type": "code",
   "execution_count": null,
   "metadata": {},
   "outputs": [],
   "source": []
  }
 ],
 "metadata": {
  "ExecuteTimeLog": [
   {
    "duration": 1570,
    "start_time": "2021-08-01T14:20:05.327Z"
   },
   {
    "duration": 1974,
    "start_time": "2021-08-01T14:21:17.640Z"
   },
   {
    "duration": 282,
    "start_time": "2021-08-01T14:21:46.775Z"
   },
   {
    "duration": 60,
    "start_time": "2021-08-01T14:22:09.104Z"
   },
   {
    "duration": 209,
    "start_time": "2021-08-01T14:23:43.765Z"
   },
   {
    "duration": 127,
    "start_time": "2021-08-01T14:24:14.500Z"
   },
   {
    "duration": 14,
    "start_time": "2021-08-01T14:25:06.418Z"
   },
   {
    "duration": 224,
    "start_time": "2021-08-01T14:25:11.363Z"
   },
   {
    "duration": 12,
    "start_time": "2021-08-01T14:44:12.311Z"
   },
   {
    "duration": 76,
    "start_time": "2021-08-01T14:44:26.205Z"
   },
   {
    "duration": 57,
    "start_time": "2021-08-01T14:49:22.399Z"
   },
   {
    "duration": 12,
    "start_time": "2021-08-01T15:31:23.288Z"
   },
   {
    "duration": 6,
    "start_time": "2021-08-01T15:33:35.321Z"
   },
   {
    "duration": 5,
    "start_time": "2021-08-01T15:34:41.704Z"
   },
   {
    "duration": 14,
    "start_time": "2021-08-01T15:36:58.457Z"
   },
   {
    "duration": 6,
    "start_time": "2021-08-01T15:44:06.768Z"
   },
   {
    "duration": 70,
    "start_time": "2021-08-01T15:44:12.754Z"
   },
   {
    "duration": 8,
    "start_time": "2021-08-01T16:00:09.031Z"
   },
   {
    "duration": 943,
    "start_time": "2021-08-01T16:00:26.139Z"
   },
   {
    "duration": 682,
    "start_time": "2021-08-01T16:00:36.243Z"
   },
   {
    "duration": 760,
    "start_time": "2021-08-01T16:00:39.761Z"
   },
   {
    "duration": 5,
    "start_time": "2021-08-01T16:14:32.954Z"
   },
   {
    "duration": 27,
    "start_time": "2021-08-01T16:14:44.559Z"
   },
   {
    "duration": 13,
    "start_time": "2021-08-01T16:20:33.463Z"
   },
   {
    "duration": 1812,
    "start_time": "2021-08-01T16:20:52.567Z"
   },
   {
    "duration": 72,
    "start_time": "2021-08-01T16:33:15.694Z"
   },
   {
    "duration": 10,
    "start_time": "2021-08-01T16:44:06.644Z"
   },
   {
    "duration": 84,
    "start_time": "2021-08-01T16:44:24.302Z"
   },
   {
    "duration": 1656,
    "start_time": "2021-08-01T18:01:46.064Z"
   },
   {
    "duration": 11,
    "start_time": "2021-08-01T18:01:47.723Z"
   },
   {
    "duration": 95,
    "start_time": "2021-08-01T18:01:47.736Z"
   },
   {
    "duration": 84,
    "start_time": "2021-08-01T18:01:47.834Z"
   },
   {
    "duration": 7,
    "start_time": "2021-08-01T18:01:47.921Z"
   },
   {
    "duration": 42,
    "start_time": "2021-08-01T18:01:47.931Z"
   },
   {
    "duration": 7,
    "start_time": "2021-08-01T18:01:47.977Z"
   },
   {
    "duration": 14,
    "start_time": "2021-08-01T18:01:47.989Z"
   },
   {
    "duration": 57,
    "start_time": "2021-08-01T18:01:48.006Z"
   },
   {
    "duration": 1052,
    "start_time": "2021-08-01T18:01:48.066Z"
   },
   {
    "duration": 7,
    "start_time": "2021-08-01T18:01:49.122Z"
   },
   {
    "duration": 51,
    "start_time": "2021-08-01T18:01:49.131Z"
   },
   {
    "duration": 13,
    "start_time": "2021-08-01T18:01:49.185Z"
   },
   {
    "duration": 1869,
    "start_time": "2021-08-01T18:01:49.200Z"
   },
   {
    "duration": 96,
    "start_time": "2021-08-01T18:01:51.071Z"
   },
   {
    "duration": 10,
    "start_time": "2021-08-01T18:01:51.170Z"
   },
   {
    "duration": 119,
    "start_time": "2021-08-01T18:01:51.183Z"
   }
  ],
  "kernelspec": {
   "display_name": "Python 3",
   "language": "python",
   "name": "python3"
  },
  "language_info": {
   "codemirror_mode": {
    "name": "ipython",
    "version": 3
   },
   "file_extension": ".py",
   "mimetype": "text/x-python",
   "name": "python",
   "nbconvert_exporter": "python",
   "pygments_lexer": "ipython3",
   "version": "3.7.8"
  },
  "toc": {
   "base_numbering": 1,
   "nav_menu": {},
   "number_sections": true,
   "sideBar": true,
   "skip_h1_title": true,
   "title_cell": "Table of Contents",
   "title_sidebar": "Contents",
   "toc_cell": false,
   "toc_position": {},
   "toc_section_display": true,
   "toc_window_display": false
  }
 },
 "nbformat": 4,
 "nbformat_minor": 2
}
